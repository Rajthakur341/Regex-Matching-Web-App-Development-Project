{
  "nbformat": 4,
  "nbformat_minor": 0,
  "metadata": {
    "colab": {
      "provenance": [],
      "gpuType": "T4"
    },
    "kernelspec": {
      "name": "python3",
      "display_name": "Python 3"
    },
    "language_info": {
      "name": "python"
    }
  },
  "cells": [
    {
      "cell_type": "code",
      "source": [
        "!pip install pyngrok\n"
      ],
      "metadata": {
        "colab": {
          "base_uri": "https://localhost:8080/"
        },
        "id": "98DoLUnSPtmv",
        "outputId": "1c5b7b49-94ab-4e8a-85c8-129573f2e5e2"
      },
      "execution_count": 1,
      "outputs": [
        {
          "output_type": "stream",
          "name": "stdout",
          "text": [
            "Collecting pyngrok\n",
            "  Downloading pyngrok-7.2.0-py3-none-any.whl.metadata (7.4 kB)\n",
            "Requirement already satisfied: PyYAML>=5.1 in /usr/local/lib/python3.10/dist-packages (from pyngrok) (6.0.2)\n",
            "Downloading pyngrok-7.2.0-py3-none-any.whl (22 kB)\n",
            "Installing collected packages: pyngrok\n",
            "Successfully installed pyngrok-7.2.0\n"
          ]
        }
      ]
    },
    {
      "cell_type": "code",
      "source": [
        "!ngrok authtoken 2njuRKgPcSOZj73UYaPFlGKI6RU_5DjecUb8DN7NEzCYLC6md\n"
      ],
      "metadata": {
        "colab": {
          "base_uri": "https://localhost:8080/"
        },
        "id": "ZDfotsUHNUjp",
        "outputId": "6d257c73-0180-4cd4-c59c-3ba7abca2c74"
      },
      "execution_count": 2,
      "outputs": [
        {
          "output_type": "stream",
          "name": "stdout",
          "text": [
            "Authtoken saved to configuration file: /root/.config/ngrok/ngrok.yml\n"
          ]
        }
      ]
    },
    {
      "cell_type": "code",
      "source": [
        "!ngrok http 5000"
      ],
      "metadata": {
        "colab": {
          "base_uri": "https://localhost:8080/"
        },
        "id": "0w2SUeOANY60",
        "outputId": "a61b0aab-8e3d-4e3f-f432-d86d58b5da06"
      },
      "execution_count": 6,
      "outputs": [
        {
          "output_type": "stream",
          "name": "stdout",
          "text": [
            "Traceback (most recent call last):\n",
            "  File \"/usr/lib/python3.10/subprocess.py\", line 1209, in wait\n",
            "    return self._wait(timeout=timeout)\n",
            "  File \"/usr/lib/python3.10/subprocess.py\", line 1959, in _wait\n",
            "    (pid, sts) = self._try_wait(0)\n",
            "  File \"/usr/lib/python3.10/subprocess.py\", line 1917, in _try_wait\n",
            "    (pid, sts) = os.waitpid(self.pid, wait_flags)\n",
            "KeyboardInterrupt\n",
            "\n",
            "During handling of the above exception, another exception occurred:\n",
            "\n",
            "Traceback (most recent call last):\n",
            "  File \"/usr/local/bin/ngrok\", line 8, in <module>\n",
            "    sys.exit(main())\n",
            "  File \"/usr/local/lib/python3.10/dist-packages/pyngrok/ngrok.py\", line 582, in main\n",
            "    run(sys.argv[1:])\n",
            "  File \"/usr/local/lib/python3.10/dist-packages/pyngrok/ngrok.py\", line 570, in run\n",
            "    process.run_process(pyngrok_config.ngrok_path, args)\n",
            "  File \"/usr/local/lib/python3.10/dist-packages/pyngrok/process.py\", line 276, in run_process\n",
            "    subprocess.call(start)\n",
            "  File \"/usr/lib/python3.10/subprocess.py\", line 347, in call\n",
            "    return p.wait(timeout=timeout)\n",
            "  File \"/usr/lib/python3.10/subprocess.py\", line 1222, in wait\n",
            "    self._wait(timeout=sigint_timeout)\n",
            "  File \"/usr/lib/python3.10/subprocess.py\", line 1942, in _wait\n",
            "    (pid, sts) = self._try_wait(os.WNOHANG)\n",
            "  File \"/usr/lib/python3.10/subprocess.py\", line 1917, in _try_wait\n",
            "    (pid, sts) = os.waitpid(self.pid, wait_flags)\n",
            "KeyboardInterrupt\n",
            "^C\n"
          ]
        }
      ]
    },
    {
      "cell_type": "code",
      "source": [
        "from flask import Flask, render_template, request\n",
        "import re\n",
        "\n",
        "app = Flask(__name__)\n",
        "\n",
        "@app.route('/')\n",
        "def home():\n",
        "    return '''\n",
        "        <h1>Regex Matcher</h1>\n",
        "        <form action=\"/results\" method=\"POST\">\n",
        "            <label for=\"test_string\">Test String:</label><br>\n",
        "            <textarea name=\"test_string\" rows=\"4\" cols=\"50\"></textarea><br>\n",
        "            <label for=\"regex\">Regex:</label><br>\n",
        "            <input type=\"text\" name=\"regex\"><br><br>\n",
        "            <input type=\"submit\" value=\"Submit\">\n",
        "        </form>\n",
        "    '''\n",
        "\n",
        "@app.route('/results', methods=['POST'])\n",
        "def results():\n",
        "    test_string = request.form['test_string']\n",
        "    regex = request.form['regex']\n",
        "    matches = re.findall(regex, test_string)\n",
        "    return f'''\n",
        "        <h1>Matches</h1>\n",
        "        <p>{matches}</p>\n",
        "        <br><a href=\"/\">Go Back</a>\n",
        "    '''\n",
        "\n",
        "@app.route('/validate_email', methods=['POST'])\n",
        "def validate_email():\n",
        "    email = request.form['email']\n",
        "    email_regex = r'^[a-zA-Z0-9_.+-]+@[a-zA-Z0-9-]+\\.[a-zA-Z0-9-.]+$'\n",
        "    is_valid = re.match(email_regex, email) is not None\n",
        "    return f'<h1>Email is {\"valid\" if is_valid else \"invalid\"}.</h1><br><a href=\"/\">Go Back</a>'\n",
        "\n",
        "app.run(port=5000)\n"
      ],
      "metadata": {
        "colab": {
          "base_uri": "https://localhost:8080/"
        },
        "id": "dDDD6TZ3Nc12",
        "outputId": "7eaa6891-822f-4bf9-a46a-8d1689ed7e8f"
      },
      "execution_count": 7,
      "outputs": [
        {
          "output_type": "stream",
          "name": "stdout",
          "text": [
            " * Serving Flask app '__main__'\n",
            " * Debug mode: off\n"
          ]
        },
        {
          "output_type": "stream",
          "name": "stderr",
          "text": [
            "INFO:werkzeug:\u001b[31m\u001b[1mWARNING: This is a development server. Do not use it in a production deployment. Use a production WSGI server instead.\u001b[0m\n",
            " * Running on http://127.0.0.1:5000\n",
            "INFO:werkzeug:\u001b[33mPress CTRL+C to quit\u001b[0m\n"
          ]
        }
      ]
    }
  ]
}